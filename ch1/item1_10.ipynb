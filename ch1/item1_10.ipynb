{
 "cells": [
  {
   "cell_type": "code",
   "execution_count": null,
   "id": "dc5fe717",
   "metadata": {},
   "outputs": [],
   "source": [
    "\"\"\"\n",
    "22-09-26\n",
    "1.10 순서를 깨지 않고 시퀀스의 중복 없애기\n",
    "\n",
    "문제] 시퀀스에서 중복된 값을 없애고 싶지만, 아이템의 순서는 유지하고 싶다.\n",
    "\n",
    "preliminary : yield 복습\n",
    "https://stackoverflow.com/questions/68599824/does-yield-in-python-go-up-the-call-stack-when-using-recursion\n",
    "\n",
    "\"\"\""
   ]
  },
  {
   "cell_type": "code",
   "execution_count": 1,
   "id": "f3feb558",
   "metadata": {},
   "outputs": [],
   "source": [
    "# 해결 - 시퀀스의 값이 hashable(해시가능)하다면,\n",
    "# 이 문제는 set과 제네레이터(generator)를 사용해서 쉽게 해결 할 수 있다.\n",
    "\n",
    "# 순서를 유지한 채, 시퀀스의 중복 제거하는 함수\n",
    "def dedupe(items):\n",
    "    seen = set()\n",
    "    for item in items:\n",
    "        if item not in seen:\n",
    "            yield item\n",
    "            seen.add(item)"
   ]
  },
  {
   "cell_type": "code",
   "execution_count": 2,
   "id": "eea200e3",
   "metadata": {},
   "outputs": [],
   "source": [
    "# How to use 'dedupe'?\n",
    "\n",
    "a = [1, 5, 2, 1, 9, 1, 5, 10]"
   ]
  },
  {
   "cell_type": "code",
   "execution_count": 3,
   "id": "e3077ed1",
   "metadata": {},
   "outputs": [
    {
     "data": {
      "text/plain": [
       "[1, 5, 2, 9, 10]"
      ]
     },
     "execution_count": 3,
     "metadata": {},
     "output_type": "execute_result"
    }
   ],
   "source": [
    "list(dedupe(a))"
   ]
  },
  {
   "cell_type": "code",
   "execution_count": null,
   "id": "2c17d574",
   "metadata": {},
   "outputs": [],
   "source": [
    "# hashable에 대한 문서: \n",
    "# https://www.geeksforgeeks.org/why-and-how-are-python-functions-hashable/\n",
    "# 요약: dictionaries are not hashable!\n",
    "\n",
    "# dict와 같은 해시 불가능한 타입의 중복을 제거하려면 레시피에 대해 약간의 수정이 필요함."
   ]
  },
  {
   "cell_type": "code",
   "execution_count": 10,
   "id": "db39dabe",
   "metadata": {},
   "outputs": [],
   "source": [
    "# 딕셔너리용 중복 제거 함수\n",
    "def dedupe(items, key=None):\n",
    "    seen = set()\n",
    "    for item in items:\n",
    "        val = item if key is None else key(item)\n",
    "        if val not in seen:\n",
    "            yield item\n",
    "            seen.add(val)\n"
   ]
  },
  {
   "cell_type": "code",
   "execution_count": 11,
   "id": "282800da",
   "metadata": {},
   "outputs": [],
   "source": [
    "a = [{'x':1, 'y':2}, {'x':1, 'y':3}, {'x':1, 'y':2}, {'x':2, 'y':4}]"
   ]
  },
  {
   "cell_type": "code",
   "execution_count": 12,
   "id": "af4c8425",
   "metadata": {},
   "outputs": [
    {
     "data": {
      "text/plain": [
       "[{'x': 1, 'y': 2}, {'x': 1, 'y': 3}, {'x': 2, 'y': 4}]"
      ]
     },
     "execution_count": 12,
     "metadata": {},
     "output_type": "execute_result"
    }
   ],
   "source": [
    "# 'x':val, 'y':val 둘 모두가 같아야만 중복으로 판단하여 제거\n",
    "list(dedupe(a, key=lambda d: (d['x'], d['y'])))"
   ]
  },
  {
   "cell_type": "code",
   "execution_count": 13,
   "id": "d1dcdf95",
   "metadata": {},
   "outputs": [
    {
     "data": {
      "text/plain": [
       "[{'x': 1, 'y': 2}, {'x': 2, 'y': 4}]"
      ]
     },
     "execution_count": 13,
     "metadata": {},
     "output_type": "execute_result"
    }
   ],
   "source": [
    "# 'x':val 이 같기만하면 중복으로 판단하여 제거\n",
    "list(dedupe(a, key=lambda d: d['x']))"
   ]
  },
  {
   "cell_type": "code",
   "execution_count": null,
   "id": "694534bc",
   "metadata": {},
   "outputs": [],
   "source": [
    "\"\"\"\n",
    "토론]\n",
    "중복을 없애려면 대개 set을 만드는 것이 가장 쉽다.\n",
    ">>> a\n",
    "[1, 5, 2, 1, 9, 1, 5, 10]\n",
    ">>> set(a)\n",
    "{1, 2, 10, 5, 9}\n",
    "\n",
    "하지만 위의 방식은 기존 데이터의 순서가 훼손된다. 따라서 앞에 언급한 recipe로 문제를 해결한다.\n",
    "\n",
    "제네레이터 함수를 사용했기 때문에 단순히 리스트 프로세싱 말고도 아주 일반적인 목적으로\n",
    "함수를 사용할 수 있다. 예를 들어 파일을 읽어 들일 때 중복된 라인을 무시하려면 단순히 다음과 같은\n",
    "코드를 사용하면 된다.\n",
    "\n",
    "with open(somefile, 'r') as f:\n",
    "    for line in dedupe(f):\n",
    "        ...\n",
    "        \n",
    "key 함수의 스펙에 대해서는 python built-in 함수인 sorted(), min(), max() 등의 기능을 흉내내고 있다.\n",
    "자세한 내용은 recipe 1.8, 1.13을 참고하라.\n",
    "\"\"\""
   ]
  }
 ],
 "metadata": {
  "kernelspec": {
   "display_name": "Python 3 (ipykernel)",
   "language": "python",
   "name": "python3"
  },
  "language_info": {
   "codemirror_mode": {
    "name": "ipython",
    "version": 3
   },
   "file_extension": ".py",
   "mimetype": "text/x-python",
   "name": "python",
   "nbconvert_exporter": "python",
   "pygments_lexer": "ipython3",
   "version": "3.10.4"
  }
 },
 "nbformat": 4,
 "nbformat_minor": 5
}
