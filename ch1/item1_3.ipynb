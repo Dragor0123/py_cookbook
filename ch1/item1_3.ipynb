{
 "cells": [
  {
   "cell_type": "code",
   "execution_count": null,
   "id": "72607034",
   "metadata": {},
   "outputs": [],
   "source": [
    "\"\"\"\n",
    "22-07-17\n",
    "1.3 마지막 N개 아이템 유지\n",
    "\n",
    "문제] 순환이나 프로세싱 중 마지막으로 발견한 N개의 아이템을 유지하고 싶다.\n",
    "\n",
    "\"\"\""
   ]
  },
  {
   "cell_type": "code",
   "execution_count": 9,
   "id": "3305cfd3",
   "metadata": {},
   "outputs": [],
   "source": [
    "from collections import deque"
   ]
  },
  {
   "cell_type": "code",
   "execution_count": 2,
   "id": "1164a778",
   "metadata": {},
   "outputs": [],
   "source": [
    "a = deque(maxlen=5)\n",
    "a.append(10)"
   ]
  },
  {
   "cell_type": "code",
   "execution_count": 3,
   "id": "fde4487a",
   "metadata": {},
   "outputs": [],
   "source": [
    "for i in range(4):\n",
    "    a.append(i)\n",
    "    "
   ]
  },
  {
   "cell_type": "code",
   "execution_count": 4,
   "id": "7d44366e",
   "metadata": {},
   "outputs": [
    {
     "name": "stdout",
     "output_type": "stream",
     "text": [
      "deque([10, 0, 1, 2, 3], maxlen=5)\n"
     ]
    }
   ],
   "source": [
    "print(a)"
   ]
  },
  {
   "cell_type": "code",
   "execution_count": 5,
   "id": "58d5188d",
   "metadata": {},
   "outputs": [
    {
     "name": "stdout",
     "output_type": "stream",
     "text": [
      "deque([0, 1, 2, 3, 99], maxlen=5)\n"
     ]
    }
   ],
   "source": [
    "a.append(99)\n",
    "print(a)"
   ]
  },
  {
   "cell_type": "code",
   "execution_count": 6,
   "id": "e00a5b36",
   "metadata": {},
   "outputs": [],
   "source": [
    "# maxlen 을 지정해주면 deque의 아이템 개수 제한이 생김.\n",
    "# 초과해서 삽입하면 반대방향부터 자동으로 pop됨."
   ]
  },
  {
   "cell_type": "code",
   "execution_count": 10,
   "id": "1cab41eb",
   "metadata": {},
   "outputs": [],
   "source": [
    "\"\"\"\n",
    "여러 줄에 대해서 간단한 텍스트 매칭을 수행하고\n",
    "처음으로 발견한 N개의 라인을 찾는다.\n",
    "\"\"\"\n",
    "\n",
    "def search(lines, pattern, history=5):\n",
    "    previous_lines = deque(maxlen=history)\n",
    "    for line in lines:\n",
    "        if pattern in line:\n",
    "            yield line, previous_lines\n",
    "        previous_lines.append(line)\n",
    "        "
   ]
  },
  {
   "cell_type": "code",
   "execution_count": 13,
   "id": "8fd41dd6",
   "metadata": {},
   "outputs": [
    {
     "name": "stdout",
     "output_type": "stream",
     "text": [
      "the national railroad passenger system. Amtrak trains stopping at the \n",
      "Naperville station include the California Zephyr, Illinois Zephyr, Carl \n",
      "Sandburg and Southwest Chief. It is also one of two stations in Naperville\n",
      "that serves Metra's BNSF commuter line, and an abundance of Pace bus routes.\n",
      "Naperville station was originally built in 1910 by the Chicago, Burlington \n",
      "python is beautiful!\n",
      "--------------------\n",
      "and Quincy Railroad.[3] On April 26, 1946, the station was the site of a \n",
      "collision between the CB&Q's Exposition Flyer and Advance Flyer. On April 26,\n",
      "2014, a memorial entitled Tragedy to Triumph was dedicated at the train station.\n",
      "The sculpture by Paul Kuhn is dedicated not only to the crash victims but also\n",
      "to the rescuers at the site.[4] \n",
      "python is cool!\n",
      "--------------------\n",
      "Florida where he earned All-American honors as a member of the golf team. He graduated in 1978, turned professional that year,\n",
      "Knox won three events during his career on the PGA Tour. His \n",
      "first win came at the 1986 Honda Classic. He was the first Monday qualifier\n",
      "to win on the PGA Tour and is the only player to win with a round of 80. \n",
      "His second win occurred a year later at the Hardee's Golf Classic and his third came in 1990 at the Buick Southern Open. During\n",
      "yoshi! I am a python programmer!\n",
      "--------------------\n",
      "yoshi! I am a python programmer!\n",
      "this phase of his career, Knox had more than1\n",
      "this phase of his career, Knox had more than2\n",
      "this phase of his career, Knox had more than3\n",
      "this phase of his career, Knox had more than4\n",
      "Hello python\n",
      "--------------------\n",
      "this phase of his career, Knox had more than2\n",
      "this phase of his career, Knox had more than3\n",
      "this phase of his career, Knox had more than4\n",
      "Hello python\n",
      "this phase of his career, Knox had more than\n",
      "Mr.SEi loves python\n",
      "--------------------\n",
      "aaasdfwe azxudo fzxicj vwa pyhwiox\n",
      "asdfwe azxudo fzxicj vwa pyhwiox\n",
      "asdfwe azxudo fzxicj vwa pyhwiox\n",
      "asdfwe azxudo fzxicj vwa pyhwiox\n",
      "asdfwe azxudo fzxicj vwa pyhwiox\n",
      "python is the most popular language in the world!--------------------\n"
     ]
    }
   ],
   "source": [
    "if __name__ == \"__main__\":\n",
    "    with open('somefile.txt') as f:\n",
    "        for line, prevlines in search(f, 'python', 5):\n",
    "            for pline in prevlines:\n",
    "                print(pline, end='')\n",
    "            print(line, end='')\n",
    "            print('-'*20)\n",
    "            \n",
    "\"\"\"\n",
    "소견 - 굉장히 재미있는 코드임.\n",
    "somefile.txt 라는 파일을 열어서 filestream으로 f로 작업하기로 함.\n",
    "search(f, 'python' 5) 제네레이터 함수를 호출함.\n",
    "search() : 시퀀스(스트링 혹은 파일)와 검색하고자 하는 pattern, 그리고 deque의 최대크기(->history)를 설정하여\n",
    "시퀀스들의 각 라인에 대해 루프를 돌며 pattern이 존재하는지 체크.\n",
    "pattern 이 존재하면(if pattern in line) => 해당 line과 deque를 yield\n",
    "\n",
    "__main__에서 yield받은 line, prevlines에서.\n",
    "pattern 이 발견된 line 이전의 line들을 한줄씩 출력. (최대 5개까지)\n",
    "그 후 pattern이 발견된 line 출력후 '-' * 20 출력\n",
    "__main__에서 다시 for 이터레이팅하면서 search의 yield 라인 직후로 넘어가서\n",
    "previous_lines에 line 삽입(현재 pattern발견된 그 라인).\n",
    "\"\"\""
   ]
  },
  {
   "cell_type": "code",
   "execution_count": null,
   "id": "672247e9",
   "metadata": {},
   "outputs": [],
   "source": [
    "# conclusion : collections.deque를 열심히 사용하자! 이것은 스택 + 큐이다!"
   ]
  }
 ],
 "metadata": {
  "kernelspec": {
   "display_name": "Python 3 (ipykernel)",
   "language": "python",
   "name": "python3"
  },
  "language_info": {
   "codemirror_mode": {
    "name": "ipython",
    "version": 3
   },
   "file_extension": ".py",
   "mimetype": "text/x-python",
   "name": "python",
   "nbconvert_exporter": "python",
   "pygments_lexer": "ipython3",
   "version": "3.9.12"
  }
 },
 "nbformat": 4,
 "nbformat_minor": 5
}
