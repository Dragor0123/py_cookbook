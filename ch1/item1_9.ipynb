{
 "cells": [
  {
   "cell_type": "code",
   "execution_count": null,
   "id": "3e2dc9ad",
   "metadata": {},
   "outputs": [],
   "source": [
    "\"\"\"\n",
    "22-09-26\n",
    "1.9 두 딕셔너리의 유사점 찾기\n",
    "\n",
    "문제] 두 딕셔너리가 있고 여기서 유사점을 찾고 싶다.(동일한 키, 동일한 값 등)\n",
    "\"\"\""
   ]
  },
  {
   "cell_type": "code",
   "execution_count": 2,
   "id": "deba1ca8",
   "metadata": {},
   "outputs": [],
   "source": [
    "# 다음 두 딕셔너리가 있다\n",
    "a = {\n",
    "    'x' : 1,\n",
    "    'y' : 2,\n",
    "    'z' : 3\n",
    "}\n",
    "\n",
    "b = {\n",
    "    'w' : 10,\n",
    "    'x' : 11,\n",
    "    'y' : 2\n",
    "}"
   ]
  },
  {
   "cell_type": "code",
   "execution_count": 3,
   "id": "989e8976",
   "metadata": {},
   "outputs": [
    {
     "data": {
      "text/plain": [
       "{'x', 'y'}"
      ]
     },
     "execution_count": 3,
     "metadata": {},
     "output_type": "execute_result"
    }
   ],
   "source": [
    "# 두 딕셔너리의 유사점을 찾으려면 keys()와 items() 등의\n",
    "# 메소드에 대해 집합 연산을 수행한다.\n",
    "\n",
    "# set에 대해 & : intersection (=동일한 키 찾기)\n",
    "a.keys() & b.keys()"
   ]
  },
  {
   "cell_type": "code",
   "execution_count": 4,
   "id": "272a7ff9",
   "metadata": {},
   "outputs": [
    {
     "data": {
      "text/plain": [
       "{'z'}"
      ]
     },
     "execution_count": 4,
     "metadata": {},
     "output_type": "execute_result"
    }
   ],
   "source": [
    "# set에 대해 - : 차집합연산 (a에는 있고, b에는 없는)\n",
    "a.keys() - b.keys()"
   ]
  },
  {
   "cell_type": "code",
   "execution_count": 5,
   "id": "3b0e8cfd",
   "metadata": {},
   "outputs": [
    {
     "data": {
      "text/plain": [
       "{('y', 2)}"
      ]
     },
     "execution_count": 5,
     "metadata": {},
     "output_type": "execute_result"
    }
   ],
   "source": [
    "a.items() & b.items()"
   ]
  },
  {
   "cell_type": "code",
   "execution_count": 6,
   "id": "1a1b8122",
   "metadata": {},
   "outputs": [
    {
     "name": "stdout",
     "output_type": "stream",
     "text": [
      "x :  1\n",
      "y :  2\n"
     ]
    }
   ],
   "source": [
    "# 특정 key를 제외한 새로운 딕셔너리 만들기\n",
    "# Grammar: {(key):(value) for key in ~}\n",
    "\n",
    "newdict = {key:a[key] for key in a.keys() - {'z', 'w'}}\n",
    "for k, v in newdict.items():\n",
    "    print(k, \": \", v)"
   ]
  },
  {
   "cell_type": "code",
   "execution_count": null,
   "id": "6544dc6f",
   "metadata": {},
   "outputs": [],
   "source": [
    "\"\"\"\n",
    "토론]\n",
    "딕셔너리는 키와 값의 매핑으로 이루어진다. 딕셔너리의 keys() 메소드는 키를 노출하는\n",
    "키뷰(key-view)객체를 반환한다. 키뷰에는 잘 알려지지 않았지만 Union, Intersection,\n",
    "complementary set과 같은 연산 기능이 있다. 따라셔 딕셔너리 key에 집합 연산을 수행\n",
    "할 때 굳이 set으로 변환할 필요가 없다.\n",
    "\n",
    "딕셔너리의 items() 메소드는 (key, value) 페어로 구성된 아이템뷰(item-view) 객체를 반환한다.\n",
    "이 객체는 set 연산과 유사한 것을 지원하므로 두 딕셔너리에 동일한 key-value 페어를 찾을 때\n",
    "사용할 수 있다.\n",
    "\n",
    "주의 할 점은 values() 메소드에는 앞서 언급한 집합 연산을 지원하지 않는다.\n",
    "생각해보면 당연한게, 하나의 딕셔너리에서 values는 uniqueness가 보장되지 않기 때문이다.\n",
    "\"\"\""
   ]
  }
 ],
 "metadata": {
  "kernelspec": {
   "display_name": "Python 3 (ipykernel)",
   "language": "python",
   "name": "python3"
  },
  "language_info": {
   "codemirror_mode": {
    "name": "ipython",
    "version": 3
   },
   "file_extension": ".py",
   "mimetype": "text/x-python",
   "name": "python",
   "nbconvert_exporter": "python",
   "pygments_lexer": "ipython3",
   "version": "3.10.4"
  }
 },
 "nbformat": 4,
 "nbformat_minor": 5
}
