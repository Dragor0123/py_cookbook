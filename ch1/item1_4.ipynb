{
 "cells": [
  {
   "cell_type": "code",
   "execution_count": null,
   "id": "277569e8",
   "metadata": {
    "pycharm": {
     "name": "#%%\n"
    }
   },
   "outputs": [],
   "source": [
    "\"\"\"\n",
    "22-07-17\n",
    "1.4 N 아이템의 최대 혹은 최소값 찾기\n",
    "\n",
    "문제] 컬렉션 내부에서 가장 크거나 작은 N개의 아이템을 찾아야 한다.\n",
    "\"\"\""
   ]
  },
  {
   "cell_type": "code",
   "execution_count": 2,
   "id": "c57eeb26",
   "metadata": {
    "pycharm": {
     "name": "#%%\n"
    }
   },
   "outputs": [],
   "source": [
    "# heapq 모듈에는 이 용도에 적합한 nlargest()와 nsmallest()가 있다!\n",
    "# heapq.nlargest, heapq.nsmallest,\n",
    "# heapq.heapiify() -> min_heap, heapq._heapify_max() -> max_heap"
   ]
  },
  {
   "cell_type": "code",
   "execution_count": 2,
   "id": "9a262c2c",
   "metadata": {
    "pycharm": {
     "name": "#%%\n"
    }
   },
   "outputs": [],
   "source": [
    "import numpy as np\n",
    "import heapq"
   ]
  },
  {
   "cell_type": "code",
   "execution_count": null,
   "id": "7b35c116",
   "metadata": {
    "pycharm": {
     "name": "#%%\n"
    }
   },
   "outputs": [],
   "source": [
    "\"\"\"\n",
    "random.randint(low, high=None, size=None, dtype=int)\n",
    "Return random integers from low (inclusive) to high (exclusive).\n",
    "Return random integers from the “discrete uniform” distribution of the specified \n",
    "dtype in the “half-open” interval [low, high). \n",
    "If high is None (the default), then results are from [0, low).\n",
    "\"\"\""
   ]
  },
  {
   "cell_type": "code",
   "execution_count": 3,
   "id": "27c7d8fe",
   "metadata": {
    "pycharm": {
     "name": "#%%\n"
    }
   },
   "outputs": [],
   "source": [
    "li = list(np.random.randint(-5, 50, size=12))"
   ]
  },
  {
   "cell_type": "code",
   "execution_count": 4,
   "id": "958ec75c",
   "metadata": {
    "pycharm": {
     "name": "#%%\n"
    }
   },
   "outputs": [
    {
     "name": "stdout",
     "output_type": "stream",
     "text": [
      "[31, 19, 6, 36, 23, 47, 7, 37, 45, 47, 43, 23]\n"
     ]
    }
   ],
   "source": [
    "print(li)"
   ]
  },
  {
   "cell_type": "code",
   "execution_count": 5,
   "id": "2910890c",
   "metadata": {
    "pycharm": {
     "name": "#%%\n"
    }
   },
   "outputs": [
    {
     "name": "stdout",
     "output_type": "stream",
     "text": [
      "[6, 7, 19, 23, 23]\n"
     ]
    }
   ],
   "source": [
    "sorted5 = sorted(li)[:5]\n",
    "print(sorted5)"
   ]
  },
  {
   "cell_type": "code",
   "execution_count": 6,
   "id": "ab6dafa0",
   "metadata": {
    "pycharm": {
     "name": "#%%\n"
    }
   },
   "outputs": [],
   "source": [
    "#하지만 굳이 정렬을 필요로하지 않느다면?"
   ]
  },
  {
   "cell_type": "code",
   "execution_count": 7,
   "id": "6af50426",
   "metadata": {
    "pycharm": {
     "name": "#%%\n"
    }
   },
   "outputs": [
    {
     "name": "stdout",
     "output_type": "stream",
     "text": [
      "[6, 7, 19, 23, 23]\n"
     ]
    }
   ],
   "source": [
    "sml5 = heapq.nsmallest(5, li)\n",
    "print(sml5)"
   ]
  },
  {
   "cell_type": "code",
   "execution_count": 8,
   "id": "2d4b9835",
   "metadata": {
    "pycharm": {
     "name": "#%%\n"
    }
   },
   "outputs": [
    {
     "name": "stdout",
     "output_type": "stream",
     "text": [
      "[47, 47, 45, 43, 37]\n"
     ]
    }
   ],
   "source": [
    "big5 = heapq.nlargest(5, li)\n",
    "print(big5)"
   ]
  },
  {
   "cell_type": "code",
   "execution_count": 48,
   "id": "b3fbfcda",
   "metadata": {
    "pycharm": {
     "name": "#%%\n"
    }
   },
   "outputs": [
    {
     "name": "stdout",
     "output_type": "stream",
     "text": [
      "[16, 6, 29, 27, 24, 23, 9, 21, 4, 15]\n"
     ]
    }
   ],
   "source": [
    "nums = list(np.random.choice(np.arange(-5, 30), 10, replace=False))\n",
    "print(nums)"
   ]
  },
  {
   "cell_type": "code",
   "execution_count": 49,
   "id": "6e44c441",
   "metadata": {
    "pycharm": {
     "name": "#%%\n"
    }
   },
   "outputs": [
    {
     "name": "stdout",
     "output_type": "stream",
     "text": [
      "[29, 27, 24]\n",
      "[4, 6, 9]\n"
     ]
    }
   ],
   "source": [
    "print(heapq.nlargest(3, nums))\n",
    "print(heapq.nsmallest(3, nums))"
   ]
  },
  {
   "cell_type": "code",
   "execution_count": 51,
   "id": "53bcce14",
   "metadata": {
    "pycharm": {
     "name": "#%%\n"
    }
   },
   "outputs": [
    {
     "name": "stdout",
     "output_type": "stream",
     "text": [
      "[16, 6, 29, 27, 24, 23, 9, 21, 4, 15]\n"
     ]
    },
    {
     "data": {
      "text/plain": [
       "[4, 6, 9, 16, 15, 23, 29, 21, 27, 24]"
      ]
     },
     "execution_count": 51,
     "metadata": {},
     "output_type": "execute_result"
    }
   ],
   "source": [
    "print(nums)\n",
    "heap = list(nums)\n",
    "heapq.heapify(heap)\n",
    "heap"
   ]
  },
  {
   "cell_type": "code",
   "execution_count": 52,
   "id": "8c5d59c7",
   "metadata": {
    "pycharm": {
     "name": "#%%\n"
    }
   },
   "outputs": [
    {
     "data": {
      "text/plain": [
       "9"
      ]
     },
     "execution_count": 52,
     "metadata": {},
     "output_type": "execute_result"
    }
   ],
   "source": [
    "heapq.heappop(heap)\n",
    "heapq.heappop(heap)\n",
    "heapq.heappop(heap)"
   ]
  },
  {
   "cell_type": "code",
   "execution_count": 53,
   "id": "745aed7f",
   "metadata": {
    "pycharm": {
     "name": "#%%\n"
    }
   },
   "outputs": [
    {
     "data": {
      "text/plain": [
       "15"
      ]
     },
     "execution_count": 53,
     "metadata": {},
     "output_type": "execute_result"
    }
   ],
   "source": [
    "heapq.heappop(heap)"
   ]
  },
  {
   "cell_type": "code",
   "execution_count": 58,
   "id": "0e7aacdf",
   "metadata": {
    "pycharm": {
     "name": "#%%\n"
    }
   },
   "outputs": [
    {
     "data": {
      "text/plain": [
       "[29, 27, 23, 21, 24, 16, 9, 6, 4, 15]"
      ]
     },
     "execution_count": 58,
     "metadata": {},
     "output_type": "execute_result"
    }
   ],
   "source": [
    "heap2 = list(nums)\n",
    "heapq._heapify_max(heap2)\n",
    "heap2"
   ]
  },
  {
   "cell_type": "code",
   "execution_count": 59,
   "id": "dce8c0e6",
   "metadata": {
    "pycharm": {
     "name": "#%%\n"
    }
   },
   "outputs": [
    {
     "name": "stdout",
     "output_type": "stream",
     "text": [
      "29\n",
      "27\n",
      "23\n",
      "21\n",
      "24\n",
      "16\n",
      "9\n",
      "6\n",
      "4\n",
      "15\n"
     ]
    }
   ],
   "source": [
    "# for item in heap2:\n",
    "#     print(item)"
   ]
  },
  {
   "cell_type": "code",
   "execution_count": 60,
   "id": "58c7b8c9",
   "metadata": {
    "pycharm": {
     "name": "#%%\n"
    }
   },
   "outputs": [
    {
     "name": "stdout",
     "output_type": "stream",
     "text": [
      "29\n",
      "27\n",
      "24\n"
     ]
    }
   ],
   "source": [
    "print(heapq._heappop_max(heap2))\n",
    "print(heapq._heappop_max(heap2))\n",
    "print(heapq._heappop_max(heap2))"
   ]
  }
 ],
 "metadata": {
  "kernelspec": {
   "display_name": "Python 3 (ipykernel)",
   "language": "python",
   "name": "python3"
  },
  "language_info": {
   "codemirror_mode": {
    "name": "ipython",
    "version": 3
   },
   "file_extension": ".py",
   "mimetype": "text/x-python",
   "name": "python",
   "nbconvert_exporter": "python",
   "pygments_lexer": "ipython3",
   "version": "3.10.4"
  }
 },
 "nbformat": 4,
 "nbformat_minor": 5
}