{
 "cells": [
  {
   "cell_type": "code",
   "execution_count": null,
   "id": "accee765",
   "metadata": {},
   "outputs": [],
   "source": [
    "\"\"\"\n",
    "22-07-24\n",
    "1.7 딕셔너리 순서 유지\n",
    "\n",
    "문제] 딕셔너리를 만들고, iterate나 serialize(직렬화)를 할 때 순서를 조절하고 싶다.\n",
    "\"\"\""
   ]
  },
  {
   "cell_type": "code",
   "execution_count": null,
   "id": "57336693",
   "metadata": {},
   "outputs": [],
   "source": [
    "\"\"\"\n",
    "해결] 딕셔너리 내부 아이템의 순서를 조절하려면 collections 모듈의 \n",
    "OrderedDict를 사용한다. 이 모듈을 사용하면 삽입 초기의 순서를 그대로 기억한다.\n",
    "(python3.6 미만 버전에서는 dictionary가 order를 기억하지 않았음, 그러나 그 이후에는 기억함!)\n",
    "\"\"\""
   ]
  },
  {
   "cell_type": "code",
   "execution_count": 1,
   "id": "5ee22aef",
   "metadata": {},
   "outputs": [
    {
     "name": "stdout",
     "output_type": "stream",
     "text": [
      "foo 1\n",
      "bar 2\n",
      "spam 3\n",
      "grok 4\n"
     ]
    }
   ],
   "source": [
    "from collections import OrderedDict\n",
    "\n",
    "d = OrderedDict()\n",
    "d['foo'] = 1\n",
    "d['bar'] = 2\n",
    "d['spam'] = 3\n",
    "d['grok'] = 4\n",
    "\n",
    "for key in d:\n",
    "    print(key, d[key])"
   ]
  },
  {
   "cell_type": "code",
   "execution_count": null,
   "id": "81f2627e",
   "metadata": {},
   "outputs": [],
   "source": [
    "\"\"\"\n",
    "OrderedDict는 직렬화할 때, 혹은 다른 포맷으로 인코딩할 다른 매핑을 만들 때 특히 유용하다.\n",
    "예를 들어, JSON 인코딩에 나타나는 특정 필드의 순서를 제어하기 위해서 OrderedDict에서\n",
    "다음과 같이 데이터를 생성한다.\n",
    "\n",
    "import json\n",
    "json.dumps(d) # ordereddict d를 받아서 dump함\n",
    "\n",
    "결과]\n",
    "'{\"foo\": 1, \"bar\": 2, \"spam\": 3, \"grok\": 4}'\n",
    "\"\"\""
   ]
  },
  {
   "cell_type": "code",
   "execution_count": null,
   "id": "fee1a492",
   "metadata": {},
   "outputs": [],
   "source": [
    "\"\"\"\n",
    "OrderedDict는 doubly linked list로 만들기 때문에 일반적인 딕셔너리보다 용량이 크다.\n",
    "만약 OrderedDict로 크기가 매우 큰 데이터 구조체를 만든다면 (예를 들어 10만 라인의 CSV파일을\n",
    "OrderedDict 인스턴스에 읽어들인다), OrderedDict를 사용하는 데서 오는 추가적인 메모리 소비가\n",
    "애플리케이션에 실질적으로 유용한지 유심히 살펴보아야한다.\n",
    "\"\"\""
   ]
  }
 ],
 "metadata": {
  "kernelspec": {
   "display_name": "Python 3 (ipykernel)",
   "language": "python",
   "name": "python3"
  },
  "language_info": {
   "codemirror_mode": {
    "name": "ipython",
    "version": 3
   },
   "file_extension": ".py",
   "mimetype": "text/x-python",
   "name": "python",
   "nbconvert_exporter": "python",
   "pygments_lexer": "ipython3",
   "version": "3.10.4"
  }
 },
 "nbformat": 4,
 "nbformat_minor": 5
}
