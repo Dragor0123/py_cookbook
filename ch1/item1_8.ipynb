{
 "cells": [
  {
   "cell_type": "code",
   "execution_count": null,
   "id": "8307fcfe",
   "metadata": {},
   "outputs": [],
   "source": [
    "\"\"\"\n",
    "22-07-24\n",
    "1.8 딕셔너리 계산\n",
    "\n",
    "문제] 딕셔너리 데이터에 여러 계산을 수행하고 싶다.\n",
    "(최솟값, 최댓값, 정렬 등...)\n",
    "\"\"\""
   ]
  },
  {
   "cell_type": "code",
   "execution_count": 1,
   "id": "06f9a341",
   "metadata": {},
   "outputs": [],
   "source": [
    "# 딕셔너리에 주식 이름과 가격이 들어있다고 가정\n",
    "prices = {\n",
    "    \"ACME\": 45.23,\n",
    "    \"APPL\": 612.78,\n",
    "    \"IBM\": 205.55,\n",
    "    \"HPQ\": 37.20,\n",
    "    \"FB\": 10.75\n",
    "}"
   ]
  },
  {
   "cell_type": "code",
   "execution_count": 3,
   "id": "a244289e",
   "metadata": {},
   "outputs": [
    {
     "data": {
      "text/plain": [
       "(10.75, 'FB')"
      ]
     },
     "execution_count": 3,
     "metadata": {},
     "output_type": "execute_result"
    }
   ],
   "source": [
    "# key, value 를 value, pair로 뒤집어서 zip으로 묶은 다음 min\n",
    "min_price = min(zip(prices.values(), prices.keys()))\n",
    "min_price"
   ]
  },
  {
   "cell_type": "code",
   "execution_count": 5,
   "id": "5c44a4bb",
   "metadata": {},
   "outputs": [
    {
     "data": {
      "text/plain": [
       "(612.78, 'APPL')"
      ]
     },
     "execution_count": 5,
     "metadata": {},
     "output_type": "execute_result"
    }
   ],
   "source": [
    "max_price = max(zip(prices.values(), prices.keys()))\n",
    "max_price"
   ]
  },
  {
   "cell_type": "code",
   "execution_count": 6,
   "id": "274060c2",
   "metadata": {},
   "outputs": [
    {
     "name": "stdout",
     "output_type": "stream",
     "text": [
      "[(10.75, 'FB'), (37.2, 'HPQ'), (45.23, 'ACME'), (205.55, 'IBM'), (612.78, 'APPL')]\n"
     ]
    }
   ],
   "source": [
    "prices_sorted = sorted(zip(prices.values(), prices.keys()))\n",
    "print(prices_sorted)"
   ]
  },
  {
   "cell_type": "code",
   "execution_count": 7,
   "id": "325bdaff",
   "metadata": {},
   "outputs": [
    {
     "name": "stdout",
     "output_type": "stream",
     "text": [
      "(10.75, 'FB')\n"
     ]
    },
    {
     "ename": "ValueError",
     "evalue": "max() arg is an empty sequence",
     "output_type": "error",
     "traceback": [
      "\u001b[1;31m---------------------------------------------------------------------------\u001b[0m",
      "\u001b[1;31mValueError\u001b[0m                                Traceback (most recent call last)",
      "Input \u001b[1;32mIn [7]\u001b[0m, in \u001b[0;36m<cell line: 5>\u001b[1;34m()\u001b[0m\n\u001b[0;32m      3\u001b[0m prices_and_names \u001b[38;5;241m=\u001b[39m \u001b[38;5;28mzip\u001b[39m(prices\u001b[38;5;241m.\u001b[39mvalues(), prices\u001b[38;5;241m.\u001b[39mkeys())\n\u001b[0;32m      4\u001b[0m \u001b[38;5;28mprint\u001b[39m(\u001b[38;5;28mmin\u001b[39m(prices_and_names))\n\u001b[1;32m----> 5\u001b[0m \u001b[38;5;28mprint\u001b[39m(\u001b[38;5;28;43mmax\u001b[39;49m\u001b[43m(\u001b[49m\u001b[43mprices_and_names\u001b[49m\u001b[43m)\u001b[49m)\n",
      "\u001b[1;31mValueError\u001b[0m: max() arg is an empty sequence"
     ]
    }
   ],
   "source": [
    "# 계산을 할 때, zip()은 단 한번만 순회될 수 있는 iterator를 생성한다. 예를 들어\n",
    "# 다음과 같은 코드에서는 에러가 발생한다.\n",
    "prices_and_names = zip(prices.values(), prices.keys())\n",
    "print(min(prices_and_names))\n",
    "print(max(prices_and_names))"
   ]
  },
  {
   "cell_type": "code",
   "execution_count": null,
   "id": "06d86941",
   "metadata": {},
   "outputs": [],
   "source": [
    "\"\"\"\n",
    "토론]\n",
    "물론 min, max 함수에 key= 인자로 lambda함수를 지정해주는 방법도 있긴 하다.\n",
    "\"\"\""
   ]
  },
  {
   "cell_type": "code",
   "execution_count": 9,
   "id": "a77105d7",
   "metadata": {},
   "outputs": [
    {
     "name": "stdout",
     "output_type": "stream",
     "text": [
      "FB 10.75\n"
     ]
    }
   ],
   "source": [
    "minkey = min(prices, key=lambda k: prices[k])\n",
    "min_value = prices[minkey]\n",
    "print(minkey, min_value)"
   ]
  },
  {
   "cell_type": "code",
   "execution_count": null,
   "id": "0949bab6",
   "metadata": {},
   "outputs": [],
   "source": [
    "\"\"\"\n",
    "그러나 위의 방법은 value 정보를 얻기 위해 한 번 더 작업해야하는 수고스러움이 있다.\n",
    "\n",
    "zip()을 포함한 해결책은 딕셔너리의 시퀀스를 (value, key) 페어로 뒤집는 것으로 문제를\n",
    "해결한다. 이런 튜플에 비교를 수행하면 value 요소를 먼저 비교하고 뒤이어 key를 비교한다.\n",
    "이렇게 하면 명령어 하나만으로 정확히 우리가 원하는 작업을 할 수 있다.\n",
    "\n",
    "\"\"\""
   ]
  },
  {
   "cell_type": "code",
   "execution_count": 10,
   "id": "808ff21a",
   "metadata": {},
   "outputs": [
    {
     "data": {
      "text/plain": [
       "(45.23, 'AAA')"
      ]
     },
     "execution_count": 10,
     "metadata": {},
     "output_type": "execute_result"
    }
   ],
   "source": [
    "prices = {'AAA': 45.23, 'ZZZ': 45.23}\n",
    "min(zip(prices.values(), prices.keys()))"
   ]
  },
  {
   "cell_type": "code",
   "execution_count": 11,
   "id": "788de627",
   "metadata": {},
   "outputs": [
    {
     "data": {
      "text/plain": [
       "(45.23, 'ZZZ')"
      ]
     },
     "execution_count": 11,
     "metadata": {},
     "output_type": "execute_result"
    }
   ],
   "source": [
    "max(zip(prices.values(), prices.keys()))"
   ]
  }
 ],
 "metadata": {
  "kernelspec": {
   "display_name": "Python 3 (ipykernel)",
   "language": "python",
   "name": "python3"
  },
  "language_info": {
   "codemirror_mode": {
    "name": "ipython",
    "version": 3
   },
   "file_extension": ".py",
   "mimetype": "text/x-python",
   "name": "python",
   "nbconvert_exporter": "python",
   "pygments_lexer": "ipython3",
   "version": "3.10.4"
  }
 },
 "nbformat": 4,
 "nbformat_minor": 5
}
