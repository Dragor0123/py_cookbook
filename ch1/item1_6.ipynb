{
 "cells": [
  {
   "cell_type": "code",
   "execution_count": 4,
   "id": "ba1a520b",
   "metadata": {},
   "outputs": [],
   "source": [
    "dt = {}\n",
    "dt['a'] = 32  # 최초의 key 접근 -> this is a insertion\n",
    "print(dt['a'])"
   ]
  },
  {
   "cell_type": "code",
   "execution_count": 5,
   "id": "10d24cc6",
   "metadata": {},
   "outputs": [
    {
     "name": "stdout",
     "output_type": "stream",
     "text": [
      "YOSHI\n"
     ]
    }
   ],
   "source": [
    "dt['a'] = 'YOSHI'\n",
    "print(dt['a']) # this is an update"
   ]
  },
  {
   "cell_type": "code",
   "execution_count": 8,
   "id": "79a28884",
   "metadata": {},
   "outputs": [],
   "source": [
    "# DaleSeo 사이트 코드\n",
    "# 참고 사이트] https://www.daleseo.com/python-collections-defaultdict/"
   ]
  },
  {
   "cell_type": "code",
   "execution_count": 9,
   "id": "1b57a336",
   "metadata": {},
   "outputs": [],
   "source": [
    "def countLetters(word):\n",
    "    counter = {}\n",
    "    for letter in word:\n",
    "        if letter not in counter:\n",
    "            counter[letter] = 0\n",
    "        counter[letter] += 1\n",
    "    return counter"
   ]
  },
  {
   "cell_type": "code",
   "execution_count": 10,
   "id": "5f620c73",
   "metadata": {},
   "outputs": [],
   "source": [
    "# 나은 방법: dict.setdefault\n",
    "# if 조건절이 readability를 해친다.\n",
    "# python built-in dictionary는 setdefault 함수를 제공한다.\n",
    "# 첫 인자를 key, 두번째 인자를 default value를 넘ㄱ미ㅕㄴ 된다.\n",
    "# 그러면, 딕셔너리 객체의 최초의 key 접근을 통한 생성을 할 때, default value로 생성한다.\n",
    "\n",
    "def countLetters(word):\n",
    "    counter = {}\n",
    "    for letter in word:\n",
    "        counter.setdefault(letter, 0)\n",
    "        counter[letter] += 1\n",
    "    return counter\n",
    "\n",
    "# 코드가 깔끔해지긴 했지만 모든 for loop에서 항상 .setdefault() 함수를 호출하는게 맘에 안든다."
   ]
  },
  {
   "cell_type": "code",
   "execution_count": 12,
   "id": "9ab38970",
   "metadata": {},
   "outputs": [],
   "source": [
    "#더 나은 방법: collections.defaultdict\n",
    "# 파이썬 내장 모듈인 collections 의 defaultdict 사용하기!\n",
    "\n",
    "from collections import defaultdict"
   ]
  },
  {
   "cell_type": "code",
   "execution_count": 13,
   "id": "c6c90fdd",
   "metadata": {},
   "outputs": [],
   "source": [
    "def countLetters(word):\n",
    "    counter = defaultdict(int) # counter = defaultdict(lambda: 0) 를 해도 무관\n",
    "    for letter in word:\n",
    "        counter[letter] += 1\n",
    "    return counter"
   ]
  },
  {
   "cell_type": "code",
   "execution_count": 14,
   "id": "c922092c",
   "metadata": {},
   "outputs": [
    {
     "name": "stdout",
     "output_type": "stream",
     "text": [
      "3\n"
     ]
    }
   ],
   "source": [
    "print(countLetters(\"HelloWorld\")['l'])"
   ]
  },
  {
   "cell_type": "code",
   "execution_count": 15,
   "id": "9d851bcf",
   "metadata": {},
   "outputs": [],
   "source": [
    "# 단어 리스트를 입력받아 주어진 단어들을 길이별로 분류해서 dictionary를 반환하는 코드\n",
    "# key : 단어의 길이(int), value: 해당 길이의 단어들의 리스트\n",
    "def groupWords(words):\n",
    "    grouper = defaultdict(list)\n",
    "    for word in words:\n",
    "        length = len(word)\n",
    "        grouper[length].append(word)\n",
    "    return grouper"
   ]
  },
  {
   "cell_type": "code",
   "execution_count": 16,
   "id": "06b6c92b",
   "metadata": {},
   "outputs": [
    {
     "name": "stdout",
     "output_type": "stream",
     "text": [
      "defaultdict(<class 'list'>, {5: ['apple', 'yoshi'], 3: ['bin', 'You'], 6: ['banana'], 2: ['hi'], 4: ['take', 'make', 'King'], 9: ['pineapple']})\n"
     ]
    }
   ],
   "source": [
    "di = groupWords(['apple', 'bin', 'yoshi', 'banana', 'hi', 'You', 'take', 'make', 'King', 'pineapple'])\n",
    "print(di)"
   ]
  },
  {
   "cell_type": "code",
   "execution_count": null,
   "id": "d68ae708",
   "metadata": {},
   "outputs": [],
   "source": [
    "\"\"\"\n",
    "설명 : counter = defaultdict(int)로 생성할 때 \n",
    "인자로 int를 넘기면 int() 의 경우 0을 리턴함\n",
    "\n",
    "x = defaultdict(list) 이런 식으로 first argument에는\n",
    "default초기화값을 넣으면 된다.\n",
    "\n",
    "The first argument provides the initial value for the default_factory attribute;it defaults to None. \n",
    "All remaining arguments are treated the same as if they were passed to the dict constructor, \n",
    "including keyword arguments.\n",
    "\"\"\""
   ]
  },
  {
   "cell_type": "code",
   "execution_count": null,
   "id": "7e5f94c4",
   "metadata": {},
   "outputs": [],
   "source": [
    "\"\"\"\n",
    "22-07-23\n",
    "1.6 딕셔너리의 키를 여러 값에 매핑하기\n",
    "\n",
    "from collections import defaultdict 사용법 배우기\n",
    "\"\"\""
   ]
  },
  {
   "cell_type": "code",
   "execution_count": null,
   "id": "151e09a6",
   "metadata": {},
   "outputs": [],
   "source": [
    "\"\"\"\n",
    "문제]\n",
    "딕셔너리의 key를 하나 이상의 values에 매핑하고 싶다. (so called 'multidict')\n",
    "\n",
    "힌트]\n",
    "여러 values를 key에 매핑하고 싶다면 set, list를 써야한다!\n",
    "\"\"\""
   ]
  },
  {
   "cell_type": "code",
   "execution_count": 17,
   "id": "cb5ae0b5",
   "metadata": {},
   "outputs": [],
   "source": [
    "d = {\n",
    "    'a' : [1, 2, 3],\n",
    "    'b' : [4, 5]\n",
    "}\n",
    "\n",
    "e = {\n",
    "    'a' : {1, 2, 3},\n",
    "    'b' : {4, 5}\n",
    "}"
   ]
  },
  {
   "cell_type": "code",
   "execution_count": null,
   "id": "ff8ef6e6",
   "metadata": {},
   "outputs": [],
   "source": [
    "\"\"\"\n",
    "multi-values로 set을 쓸지 list를 쓸지는 목적에 따라 달라진다.\n",
    "삽입된 아이템의 순서를 지키려면 list, 아이템의 중복을 허용하지 않으려면 set이다.\n",
    "사실 바로 위의 코드 처럼 구현해도 되긴하다. \n",
    "그런데 불편하기에 collections.defaultdict를 쓰는 것\n",
    "\"\"\""
   ]
  },
  {
   "cell_type": "code",
   "execution_count": 19,
   "id": "0835c286",
   "metadata": {},
   "outputs": [
    {
     "name": "stdout",
     "output_type": "stream",
     "text": [
      "defaultdict(<class 'list'>, {'a': [1, 2, 3], 'b': [4, 5]})\n"
     ]
    }
   ],
   "source": [
    "from collections import defaultdict\n",
    "\n",
    "d = defaultdict(list)\n",
    "d['a'].append(1)      # 존재하지 않았던 'a'키에 해당하는 value에 대해(list) 최초 접근시 자동으로 엔트리를 생성함\n",
    "d['a'].append(2)\n",
    "d['a'].append(3)\n",
    "d['b'].append(4)\n",
    "d['b'].append(5)\n",
    "\n",
    "print(d)"
   ]
  },
  {
   "cell_type": "code",
   "execution_count": null,
   "id": "91b3dc81",
   "metadata": {},
   "outputs": [],
   "source": [
    "\"\"\"\n",
    "다만 defaultdict를 사용할 때는 딕셔너리에 존재하지 않는 값이라도\n",
    "한 번이라도 접근했던 키의 엔트리를 자동으로 생성한다는 점을 주의해야 한다.\n",
    "이런 동작성이 마음에 들지 않는다면 일반 딕셔너리의 setdefault()를 사용한다.\n",
    "\n",
    "d = {}\n",
    "d.setdefault('a', []).append(1)\n",
    "d.setdefault('a', []).append(2)\n",
    "d.setdefault('a', []).append(3)\n",
    "\n",
    "하지만 많은 프로그래머들은 setdefault()가 부자연스럽다고 생각함.\n",
    "\"\"\""
   ]
  }
 ],
 "metadata": {
  "kernelspec": {
   "display_name": "Python 3 (ipykernel)",
   "language": "python",
   "name": "python3"
  },
  "language_info": {
   "codemirror_mode": {
    "name": "ipython",
    "version": 3
   },
   "file_extension": ".py",
   "mimetype": "text/x-python",
   "name": "python",
   "nbconvert_exporter": "python",
   "pygments_lexer": "ipython3",
   "version": "3.10.4"
  }
 },
 "nbformat": 4,
 "nbformat_minor": 5
}
